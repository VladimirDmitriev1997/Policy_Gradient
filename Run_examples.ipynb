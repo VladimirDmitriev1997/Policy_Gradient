{
  "nbformat": 4,
  "nbformat_minor": 0,
  "metadata": {
    "colab": {
      "name": "Run_examples.ipynb",
      "provenance": [],
      "collapsed_sections": [],
      "machine_shape": "hm"
    },
    "kernelspec": {
      "name": "python3",
      "display_name": "Python 3"
    },
    "accelerator": "GPU"
  },
  "cells": [
    {
      "cell_type": "code",
      "metadata": {
        "id": "UzEUUjCJNRMe"
      },
      "source": [
        "import Policy_Gradient_CV as PG\n",
        "from scipy.integrate import quad\n",
        "from scipy import special\n",
        "import sys \n",
        "import os\n",
        "import torch  \n",
        "import gym\n",
        "import numpy as np  \n",
        "import torch.nn as nn\n",
        "import torch.optim as optim\n",
        "import torch.nn.functional as F\n",
        "from torch.autograd import Variable\n",
        "import matplotlib.pyplot as plt"
      ],
      "execution_count": 1,
      "outputs": []
    },
    {
      "cell_type": "code",
      "metadata": {
        "colab": {
          "base_uri": "https://localhost:8080/",
          "height": 232
        },
        "id": "m9Gf8JxhNVVk",
        "outputId": "70030876-3e5f-43fb-8f70-74040c2223d5"
      },
      "source": [
        "\n",
        "env = gym.make(\"MountainCarContinuous-v0\")\n",
        "env.seed(1)\n",
        "torch.manual_seed(1)\n",
        "np.random.seed(1)\n",
        "state_dim = 2\n",
        "action_dim = 1\n",
        "sampler_parameters_dim = 2\n",
        "hidden_size = 128\n",
        "agent = utils.REINFORCE_Agent(state_dim, sampler_parameters_dim, hidden_size)\n",
        "max_episode_num = 100\n",
        "max_steps = 10000\n",
        "gamma = 0.9999\n",
        "\n",
        "\n",
        "\n",
        "numsteps = []\n",
        "avg_numsteps = []\n",
        "all_rewards = []\n",
        "l = []\n",
        "final_flag = 1\n",
        "R = []\n",
        "R_ = []\n",
        "\n",
        "for episode in range(max_episode_num):\n",
        "  process = utils.MDP(env, agent, max_steps, gamma, state_dim, action_dim)\n",
        "  while final_flag == 1:\n",
        "    final_flag = process.step()\n",
        "  final_flag = 1\n",
        "  cum_rew, mean_rew = process.finalize_trajectory()\n",
        "  print(cum_rew, mean_rew)\n",
        "  R.append(cum_rew)\n",
        "  R_.append(mean_rew)\n",
        "        \n",
        "plt.plot(R)\n",
        "plt.plot(R_)\n",
        "plt.xlabel('Episode')\n",
        "plt.show()"
      ],
      "execution_count": 2,
      "outputs": [
        {
          "output_type": "error",
          "ename": "NameError",
          "evalue": "ignored",
          "traceback": [
            "\u001b[0;31m---------------------------------------------------------------------------\u001b[0m",
            "\u001b[0;31mNameError\u001b[0m                                 Traceback (most recent call last)",
            "\u001b[0;32m<ipython-input-2-0d8bc167542e>\u001b[0m in \u001b[0;36m<module>\u001b[0;34m()\u001b[0m\n\u001b[1;32m      8\u001b[0m \u001b[0msampler_parameters_dim\u001b[0m \u001b[0;34m=\u001b[0m \u001b[0;36m2\u001b[0m\u001b[0;34m\u001b[0m\u001b[0;34m\u001b[0m\u001b[0m\n\u001b[1;32m      9\u001b[0m \u001b[0mhidden_size\u001b[0m \u001b[0;34m=\u001b[0m \u001b[0;36m128\u001b[0m\u001b[0;34m\u001b[0m\u001b[0;34m\u001b[0m\u001b[0m\n\u001b[0;32m---> 10\u001b[0;31m \u001b[0magent\u001b[0m \u001b[0;34m=\u001b[0m \u001b[0mutils\u001b[0m\u001b[0;34m.\u001b[0m\u001b[0mREINFORCE_Agent\u001b[0m\u001b[0;34m(\u001b[0m\u001b[0mstate_dim\u001b[0m\u001b[0;34m,\u001b[0m \u001b[0msampler_parameters_dim\u001b[0m\u001b[0;34m,\u001b[0m \u001b[0mhidden_size\u001b[0m\u001b[0;34m)\u001b[0m\u001b[0;34m\u001b[0m\u001b[0;34m\u001b[0m\u001b[0m\n\u001b[0m\u001b[1;32m     11\u001b[0m \u001b[0mmax_episode_num\u001b[0m \u001b[0;34m=\u001b[0m \u001b[0;36m100\u001b[0m\u001b[0;34m\u001b[0m\u001b[0;34m\u001b[0m\u001b[0m\n\u001b[1;32m     12\u001b[0m \u001b[0mmax_steps\u001b[0m \u001b[0;34m=\u001b[0m \u001b[0;36m10000\u001b[0m\u001b[0;34m\u001b[0m\u001b[0;34m\u001b[0m\u001b[0m\n",
            "\u001b[0;31mNameError\u001b[0m: name 'utils' is not defined"
          ]
        }
      ]
    },
    {
      "cell_type": "code",
      "metadata": {
        "id": "qJWpUS-fZPIl",
        "colab": {
          "base_uri": "https://localhost:8080/",
          "height": 1000
        },
        "outputId": "b9e166e4-2687-4f6a-d179-e3a365d0436a"
      },
      "source": [
        "\n",
        "\n",
        "env = gym.make(\"MountainCarContinuous-v0\")\n",
        "env.seed(1)\n",
        "torch.manual_seed(1)\n",
        "np.random.seed(1)\n",
        "state_dim = 2\n",
        "action_dim = 1\n",
        "sampler_parameters_dim = 2\n",
        "hidden_size = 128\n",
        "agent = utils.REINFORCE_Agent(state_dim, sampler_parameters_dim, hidden_size)\n",
        "max_episode_num = 100\n",
        "max_steps = 10000\n",
        "gamma = 0.9999\n",
        "lag = 5\n",
        "K = 2\n",
        "burn_in = 2\n",
        "burn_off = 2\n",
        "polynomial = utils.herm\n",
        "\n",
        "\n",
        "\n",
        "numsteps = []\n",
        "avg_numsteps = []\n",
        "all_rewards = []\n",
        "l = []\n",
        "final_flag = 1\n",
        "R = []\n",
        "R_ = []\n",
        "R_CV = []\n",
        "R_CV_ = []\n",
        "\n",
        "for episode in range(max_episode_num):\n",
        "  if episode%10 == 0:\n",
        "    status ='work'\n",
        "    cv = utils.CV(lag, K, burn_in, burn_off, polynomial, max_steps, state_dim, action_dim, status, lr = 0.001)\n",
        "  else:\n",
        "    status ='learning'\n",
        "    cv = utils.CV(lag, K, burn_in, burn_off, polynomial, max_steps, state_dim, action_dim, status, lr = 0.001)\n",
        "  cv.init_regression(state_dim, action_dim)\n",
        "  process = utils.MDP(env, agent, max_steps, gamma, state_dim, action_dim, cv)\n",
        "  while final_flag == 1:\n",
        "    final_flag = process.step()\n",
        "  final_flag = 1\n",
        "  cum_rew, mean_rew  = process.finalize_trajectory()\n",
        "  print(cum_rew, mean_rew)\n",
        "  R.append(cum_rew)\n",
        "  R_.append(mean_rew)\n",
        "  #R_CV.append(cv)\n",
        "  #R_CV_.append(cv_)\n",
        "plt.plot(R)\n",
        "#plt.plot(R_)\n",
        "#plt.plot(R_CV)\n",
        "#plt.plot(R_CV_)\n",
        "#plt.xlabel('Episode')\n",
        "plt.show()"
      ],
      "execution_count": 5,
      "outputs": [
        {
          "output_type": "stream",
          "text": [
            "/content/REINFORCE.py:218: UserWarning: To copy construct from a tensor, it is recommended to use sourceTensor.clone().detach() or sourceTensor.clone().detach().requires_grad_(True), rather than torch.tensor(sourceTensor).\n",
            "  Q = torch.tensor(q,dtype = torch.float32, requires_grad=True).cuda()\n",
            "/content/REINFORCE.py:284: UserWarning: To copy construct from a tensor, it is recommended to use sourceTensor.clone().detach() or sourceTensor.clone().detach().requires_grad_(True), rather than torch.tensor(sourceTensor).\n",
            "  x = torch.tensor(Q[t-q,:self.action_dim+ self.state_dim].detach().clone(),dtype = torch.float32, requires_grad=True).detach().cpu()\n",
            "/content/REINFORCE.py:285: UserWarning: To copy construct from a tensor, it is recommended to use sourceTensor.clone().detach() or sourceTensor.clone().detach().requires_grad_(True), rather than torch.tensor(sourceTensor).\n",
            "  x = torch.tensor(x,dtype = torch.float32, requires_grad=True).reshape((1,-1)).cuda()\n"
          ],
          "name": "stderr"
        },
        {
          "output_type": "stream",
          "text": [
            "-3.1712856638609788 -0.003174460123984964\n"
          ],
          "name": "stdout"
        },
        {
          "output_type": "stream",
          "text": [
            "/content/REINFORCE.py:249: UserWarning: To copy construct from a tensor, it is recommended to use sourceTensor.clone().detach() or sourceTensor.clone().detach().requires_grad_(True), rather than torch.tensor(sourceTensor).\n",
            "  x = torch.tensor(Q[t-q,:self.action_dim+ self.state_dim].detach().clone(),dtype = torch.float32, requires_grad=True).detach().cpu()\n",
            "/content/REINFORCE.py:250: UserWarning: To copy construct from a tensor, it is recommended to use sourceTensor.clone().detach() or sourceTensor.clone().detach().requires_grad_(True), rather than torch.tensor(sourceTensor).\n",
            "  x = torch.tensor(x,dtype = torch.float32, requires_grad=True).reshape((1,-1)).cuda()\n"
          ],
          "name": "stderr"
        },
        {
          "output_type": "stream",
          "text": [
            "-3.104209365126068 -0.003107316681807876\n",
            "-3.007965919293503 -0.0030109768961896926\n",
            "-3.0521166783621636 -0.003055171850212376\n",
            "-3.166985575914794 -0.0031701557316464405\n",
            "-2.9738045299033047 -0.0029767813112145194\n",
            "-3.009589494686378 -0.0030126020967831614\n",
            "-3.0287450719599405 -0.0030317768488087493\n",
            "-3.104006220360413 -0.0031071133336941074\n",
            "-3.0785669894154903 -0.003081648638053544\n",
            "-3.073138808292848 -0.003076215023316164\n",
            "-3.0602602457425307 -0.0030633235693118426\n",
            "-3.0079247111715897 -0.003010935646818408\n",
            "-2.974955416826823 -0.0029779333501769997\n",
            "-3.075434993842517 -0.003078513507349867\n",
            "-3.026713206846671 -0.0030297429497964674\n",
            "-3.044189807684159 -0.0030472370447288876\n",
            "-3.0503225663349363 -0.0030533759422772134\n",
            "-2.992299724932634 -0.0029952950199525867\n",
            "-3.021188251424861 -0.0030242124638887495\n",
            "-2.9457673638480766 -0.0029487160799280044\n",
            "-2.994269680695343 -0.002997266947642986\n",
            "-2.972272736201454 -0.0029752479841856395\n",
            "-2.972913557776134 -0.002975889447223357\n",
            "-3.0171133304089555 -0.003020133463872828\n",
            "-2.986577668561032 -0.002989567235796829\n",
            "-2.9747890143778517 -0.002977766781159011\n",
            "-2.930094032522759 -0.0029330270595823416\n",
            "-2.9461692077216837 -0.0029491183260477315\n",
            "-2.92061403388231 -0.0029235375714537636\n",
            "-2.997635255146138 -0.003000635891037175\n",
            "-3.0000336700167276 -0.003003036706723451\n",
            "-2.909515987510152 -0.002912428415926078\n",
            "-3.006865374695903 -0.003009875249945849\n",
            "-3.012886473968508 -0.003015902376344853\n",
            "-2.9846473726115876 -0.0029876350076192067\n",
            "-2.98771969392235 -0.002990710404326677\n",
            "-2.9690708500962035 -0.002972042892989193\n",
            "-2.9503453853723802 -0.0029532986840564365\n",
            "-2.930161040483399 -0.002933094134618017\n",
            "-2.9775651996325347 -0.002980545745377913\n",
            "-2.8961554668057303 -0.0028990545213270573\n",
            "-2.985716723319327 -0.002988705428748075\n",
            "-2.9221679889045764 -0.002925093081986563\n",
            "-2.9578910294667815 -0.0029608518813481295\n",
            "-2.901479450874898 -0.002904383834709608\n",
            "-2.927117094008837 -0.002930047141149987\n",
            "-2.947179768153344 -0.002950129898051395\n",
            "-2.9003554875002093 -0.002903258746246456\n",
            "-2.943406194912466 -0.002946352547459926\n",
            "-2.939274863857252 -0.00294221708093819\n",
            "-2.940211780929271 -0.002943154935865136\n",
            "-2.8867098297319957 -0.0028895994291611568\n",
            "-2.91243550573704 -0.002915350856593634\n",
            "-2.9270761803242094 -0.0029300061865107203\n",
            "-2.95064820406769 -0.0029536018058735638\n",
            "-2.93136246437635 -0.0029342967611374875\n",
            "-2.913888246925716 -0.0029168050519776936\n",
            "-2.925164465585934 -0.002928092558144078\n",
            "-2.929980796279086 -0.002932913709989075\n",
            "-2.8990858430048076 -0.0029019878308356433\n",
            "-2.9288243802253118 -0.0029317561363616735\n",
            "-2.911165618529877 -0.002914079698228105\n",
            "-2.883794352206503 -0.002886681033239743\n",
            "-2.8945184748159924 -0.0028974158907066993\n",
            "-2.899984334767667 -0.0029028872219896565\n",
            "-2.9092459567898836 -0.0029121581149047886\n",
            "-2.904058846777567 -0.0029069658125901576\n",
            "-2.8942604678222015 -0.002897157625447649\n",
            "-2.908245340092938 -0.002911156496589527\n",
            "-2.9204265125922366 -0.0029233498624546914\n",
            "-2.9049051173657636 -0.00290781293029606\n",
            "-2.921183732038074 -0.002924107839877952\n",
            "-2.8845356253319276 -0.002887423048380308\n",
            "-2.9069819621989925 -0.0029098918540530457\n",
            "-2.9159720696996194 -0.0029188909606602796\n",
            "-2.917803244658398 -0.002920723968627025\n",
            "-2.898054549859716 -0.002900955505365081\n",
            "-2.9069034209528386 -0.0029098132341870255\n",
            "-2.9106636249226416 -0.0029135772021247662\n",
            "-2.8876856568908806 -0.0028905762331240046\n",
            "-2.906092680060003 -0.0029090016817417447\n",
            "-2.9176043096030666 -0.002920524834437504\n",
            "-2.8978940661213364 -0.002900794860982319\n",
            "-2.9267108982981958 -0.0029296405388370326\n",
            "-2.904338588119618 -0.0029072458339535717\n",
            "-2.9336894603851134 -0.002936626086471585\n",
            "-2.9086656730722504 -0.002911577250322573\n",
            "-2.8934581294355994 -0.002896354483919519\n",
            "-2.902429747196778 -0.002905335082279057\n",
            "-2.907926090015137 -0.002910836926942079\n",
            "-2.9124410932709406 -0.0029153564497206613\n",
            "-2.9184901971295742 -0.0029214116087383124\n",
            "-2.920117039133291 -0.0029230400792125038\n",
            "-2.9081697280332226 -0.002911080808842065\n",
            "-2.919727424753418 -0.0029226500748282466\n",
            "-2.9096017398863907 -0.0029125142541405313\n",
            "-2.9237482672811255 -0.002926674942223349\n",
            "-2.914560647516926 -0.0029174781256425687\n",
            "-2.9233400137271253 -0.0029262662800071323\n"
          ],
          "name": "stdout"
        },
        {
          "output_type": "display_data",
          "data": {
            "image/png": "[encoded data removed]",
            "text/plain": [
              "<Figure size 432x288 with 1 Axes>"
            ]
          },
          "metadata": {
            "tags": [],
            "needs_background": "light"
          }
        }
      ]
    },
    {
      "cell_type": "code",
      "metadata": {
        "colab": {
          "base_uri": "https://localhost:8080/"
        },
        "id": "pniSRXFbsamF",
        "outputId": "13a2bdc9-18f8-4e3c-82c6-76da0fe23d15"
      },
      "source": [
        "env = gym.make(\"MountainCarContinuous-v0\")\n",
        "env.seed(1)\n",
        "torch.manual_seed(1)\n",
        "np.random.seed(1)\n",
        "state_dim = 2\n",
        "action_dim = 1\n",
        "sampler_parameters_dim = 2\n",
        "hidden_size = 128\n",
        "agent = PG.A2C_Agent(state_dim, sampler_parameters_dim, hidden_size)\n",
        "max_episode_num = 100\n",
        "max_steps = 10000\n",
        "gamma = 0.9999\n",
        "\n",
        "\n",
        "\n",
        "numsteps = []\n",
        "avg_numsteps = []\n",
        "all_rewards = []\n",
        "l = []\n",
        "final_flag = 1\n",
        "R = []\n",
        "R_ = []\n",
        "\n",
        "for episode in range(max_episode_num):\n",
        "  process = PG.MDP(env, agent, max_steps, gamma, state_dim, action_dim)\n",
        "  while final_flag == 1:\n",
        "    final_flag = process.step()\n",
        "  final_flag = 1\n",
        "  cum_rew, mean_rew = process.finalize_trajectory()\n",
        "  if episode%10 == 0:\n",
        "    print(cum_rew, mean_rew)\n",
        "  R.append(cum_rew)\n",
        "  R_.append(mean_rew)\n",
        "        \n",
        "plt.plot(R)\n",
        "plt.plot(R_)\n",
        "plt.xlabel('Episode')\n",
        "plt.show()"
      ],
      "execution_count": null,
      "outputs": [
        {
          "output_type": "stream",
          "text": [
            "/content/Policy_Gradient_CV.py:196: UserWarning: torch.nn.utils.clip_grad_norm is now deprecated in favor of torch.nn.utils.clip_grad_norm_.\n",
            "  utils.clip_grad_norm(self.parameters(), 40)\n"
          ],
          "name": "stderr"
        },
        {
          "output_type": "stream",
          "text": [
            "-45.604101555132026 -0.04564975130643847\n",
            "-41.2484878535303 -0.04128977763116146\n",
            "-38.900039370532554 -0.03893897834888144\n"
          ],
          "name": "stdout"
        }
      ]
    },
    {
      "cell_type": "code",
      "metadata": {
        "id": "674AaXaprmgk"
      },
      "source": [
        "if episode%10 == 0:\n",
        "    status ='work'\n",
        "    cv = utils.CV(lag, K, burn_in, burn_off, polynomial, max_steps, state_dim, action_dim, status, lr = 0.001)\n",
        "  else:\n",
        "    status ='learning'\n",
        "    cv = utils.CV(lag, K, burn_in, burn_off, polynomial, max_steps, state_dim, action_dim, status, lr = 0.001)"
      ],
      "execution_count": null,
      "outputs": []
    },
    {
      "cell_type": "code",
      "metadata": {
        "colab": {
          "base_uri": "https://localhost:8080/"
        },
        "id": "JucFxKkcLxak",
        "outputId": "268135d8-a428-406a-e0fe-9c8ed0cb9cd9"
      },
      "source": [
        "env = gym.make(\"MountainCarContinuous-v0\")\n",
        "env.seed(1)\n",
        "torch.manual_seed(1)\n",
        "np.random.seed(1)\n",
        "state_dim = 2\n",
        "action_dim = 1\n",
        "sampler_parameters_dim = 2\n",
        "hidden_size = 128\n",
        "agent = PG.A2C_Agent(state_dim, sampler_parameters_dim, hidden_size)\n",
        "max_episode_num = 100\n",
        "max_steps = 10000\n",
        "gamma = 0.9999\n",
        "lag = 5\n",
        "K = 2\n",
        "burn_in = 2\n",
        "burn_off = 2\n",
        "polynomial = PG.herm\n",
        "\n",
        "\n",
        "numsteps = []\n",
        "avg_numsteps = []\n",
        "all_rewards = []\n",
        "l = []\n",
        "final_flag = 1\n",
        "R = []\n",
        "R_ = []\n",
        "\n",
        "for episode in range(max_episode_num):\n",
        "  if episode%10 == 0:\n",
        "    status ='work'\n",
        "    cv = PG.CV(lag, K, burn_in, burn_off, polynomial, max_steps, state_dim, action_dim, status, lr = 0.001)\n",
        "  else:\n",
        "    status ='learning'\n",
        "    cv = PG.CV(lag, K, burn_in, burn_off, polynomial, max_steps, state_dim, action_dim, status, lr = 0.001)\n",
        "  cv.init_regression(state_dim, action_dim)\n",
        "  process = PG.MDP(env, agent, max_steps, gamma, state_dim, action_dim, cv)\n",
        "  while final_flag == 1:\n",
        "    final_flag = process.step()\n",
        "  final_flag = 1\n",
        "  cum_rew, mean_rew = process.finalize_trajectory()\n",
        "  if episode%10 == 0:\n",
        "    print(cum_rew, mean_rew)\n",
        "  R.append(cum_rew)\n",
        "  R_.append(mean_rew)\n",
        "        \n",
        "plt.plot(R)\n",
        "plt.plot(R_)\n",
        "plt.xlabel('Episode')\n",
        "plt.show()"
      ],
      "execution_count": null,
      "outputs": [
        {
          "output_type": "stream",
          "text": [
            "/content/Policy_Gradient_CV.py:333: UserWarning: To copy construct from a tensor, it is recommended to use sourceTensor.clone().detach() or sourceTensor.clone().detach().requires_grad_(True), rather than torch.tensor(sourceTensor).\n",
            "  Q = torch.tensor(q,dtype = torch.float32, requires_grad=True).cuda()\n",
            "/content/Policy_Gradient_CV.py:399: UserWarning: To copy construct from a tensor, it is recommended to use sourceTensor.clone().detach() or sourceTensor.clone().detach().requires_grad_(True), rather than torch.tensor(sourceTensor).\n",
            "  x = torch.tensor(Q[t-q,:self.action_dim+ self.state_dim].detach().clone(),dtype = torch.float32, requires_grad=True).detach().cpu()\n",
            "/content/Policy_Gradient_CV.py:400: UserWarning: To copy construct from a tensor, it is recommended to use sourceTensor.clone().detach() or sourceTensor.clone().detach().requires_grad_(True), rather than torch.tensor(sourceTensor).\n",
            "  x = torch.tensor(x,dtype = torch.float32, requires_grad=True).reshape((1,-1)).cuda()\n",
            "/content/Policy_Gradient_CV.py:188: UserWarning: To copy construct from a tensor, it is recommended to use sourceTensor.clone().detach() or sourceTensor.clone().detach().requires_grad_(True), rather than torch.tensor(sourceTensor).\n",
            "  p_loss = p_loss - self.values[i]*(Variable(torch.tensor(deltas[i], dtype = torch.float32)).cuda())\n",
            "/content/Policy_Gradient_CV.py:189: UserWarning: To copy construct from a tensor, it is recommended to use sourceTensor.clone().detach() or sourceTensor.clone().detach().requires_grad_(True), rather than torch.tensor(sourceTensor).\n",
            "  v_loss = v_loss - (log_probs[i]*(Variable(torch.tensor(deltas[i], dtype = torch.float32))).cuda()) - (0.0001*self.entropies[i].cuda()).sum()\n",
            "/content/Policy_Gradient_CV.py:196: UserWarning: torch.nn.utils.clip_grad_norm is now deprecated in favor of torch.nn.utils.clip_grad_norm_.\n",
            "  utils.clip_grad_norm(self.parameters(), 40)\n"
          ],
          "name": "stderr"
        },
        {
          "output_type": "stream",
          "text": [
            "-45.604101555132026 -0.04564975130643847\n"
          ],
          "name": "stdout"
        },
        {
          "output_type": "stream",
          "text": [
            "/content/Policy_Gradient_CV.py:364: UserWarning: To copy construct from a tensor, it is recommended to use sourceTensor.clone().detach() or sourceTensor.clone().detach().requires_grad_(True), rather than torch.tensor(sourceTensor).\n",
            "  x = torch.tensor(Q[t-q,:self.action_dim+ self.state_dim].detach().clone(),dtype = torch.float32, requires_grad=True).detach().cpu()\n",
            "/content/Policy_Gradient_CV.py:365: UserWarning: To copy construct from a tensor, it is recommended to use sourceTensor.clone().detach() or sourceTensor.clone().detach().requires_grad_(True), rather than torch.tensor(sourceTensor).\n",
            "  x = torch.tensor(x,dtype = torch.float32, requires_grad=True).reshape((1,-1)).cuda()\n"
          ],
          "name": "stderr"
        },
        {
          "output_type": "stream",
          "text": [
            "-45.3889308021498 -0.045434365167317116\n"
          ],
          "name": "stdout"
        }
      ]
    }
  ]
}